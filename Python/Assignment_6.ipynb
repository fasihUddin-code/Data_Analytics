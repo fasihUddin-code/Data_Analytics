{
 "cells": [
  {
   "cell_type": "markdown",
   "id": "d87ac2e7-8041-48c6-aa52-47ddd2cb0330",
   "metadata": {},
   "source": [
    "1. Question:\n",
    "\n",
    "Imagine a scenario where we have two classes:\n",
    "\n",
    "Person: Represents a person with attributes like name and age, and a method introduce() to introduce the person.\n",
    "\n",
    "Employee: Represents an employee with attributes like employee_id and department, and a method work() to describe the work of the employee.\n",
    "\n",
    "Create a child class Manager that inherits from both Person and Employee. The Manager class should have a method manage() that describes the work the manager does. Instantiate a Manager object and call all methods (introduce(), work(), and manage()).\n",
    "\n",
    "Expected Output:\n",
    "\n",
    "- Hello, my name is John and I am 35 years old.\n",
    "- Employee M123 is working in HR department.\n",
    "- Manager John is managing the team in the HR department.\n"
   ]
  },
  {
   "cell_type": "code",
   "execution_count": 27,
   "id": "3beb9030-006e-433e-9042-aa1d73566607",
   "metadata": {},
   "outputs": [],
   "source": [
    "class Person:\n",
    "    def __init__(self, name, age, **kwargs):\n",
    "        super().__init__(**kwargs)\n",
    "        self.name = name\n",
    "        self.age = age\n",
    "\n",
    "    def introduce(self):\n",
    "        print(f\"Hello my name is {self.name} and I am {self.age} years old\")\n",
    "\n",
    "class Employee:\n",
    "    def __init__(self, empId, department, **kwargs):\n",
    "        super().__init__(**kwargs)\n",
    "        self.empId = empId\n",
    "        self.department = department\n",
    "\n",
    "    def work(self):\n",
    "        print(f\"Employee {self.empId} is working in {self.department} department\")\n",
    "\n",
    "class Manager(Person, Employee):\n",
    "    def __init__(self, name, age, empId, department):\n",
    "        super().__init__(name=name, age=age, empId=empId, department=department)\n",
    "\n",
    "    def manage(self):\n",
    "        print(f\"Manager {self.name} is managing the team in the {self.department} department\")"
   ]
  },
  {
   "cell_type": "code",
   "execution_count": 28,
   "id": "714c0701-aade-4958-8455-c44b7ff6201b",
   "metadata": {},
   "outputs": [],
   "source": [
    "ManagerObj = Manager(\"Fasih\",36,\"E002\",\"HR\")"
   ]
  },
  {
   "cell_type": "code",
   "execution_count": 29,
   "id": "4b74f00e-c0c4-4ac3-b579-28e4844d7692",
   "metadata": {},
   "outputs": [
    {
     "name": "stdout",
     "output_type": "stream",
     "text": [
      "Hello my name is Fasih and I am 36 years old\n"
     ]
    }
   ],
   "source": [
    "ManagerObj.introduce()"
   ]
  },
  {
   "cell_type": "code",
   "execution_count": 30,
   "id": "7eac0452-5162-4663-86d9-461dfb77f147",
   "metadata": {},
   "outputs": [
    {
     "name": "stdout",
     "output_type": "stream",
     "text": [
      "Employee E002 is working in HR department\n"
     ]
    }
   ],
   "source": [
    "ManagerObj.work()"
   ]
  },
  {
   "cell_type": "code",
   "execution_count": 31,
   "id": "da32cc84-3a29-4b18-ba7a-dca3aec26d6c",
   "metadata": {},
   "outputs": [
    {
     "name": "stdout",
     "output_type": "stream",
     "text": [
      "Manager Fasih is managing the team in the HR department\n"
     ]
    }
   ],
   "source": [
    "ManagerObj.manage()"
   ]
  },
  {
   "cell_type": "markdown",
   "id": "4a896d59-313a-41eb-8f81-cb1af3dfb8f1",
   "metadata": {},
   "source": [
    "2. Create a class Greeting with a method greet() that can handle different numbers of arguments.\n",
    "\n",
    "- If no argument is passed, it should print \"Hello!\".\n",
    "- If one argument (a name) is passed, it should print \"Hello, <name>!\".\n",
    "- If two arguments (a name and a greeting) are passed, it should print the greeting with the name (e.g., \"Good morning, <name>!\").\n",
    "\n",
    "Simulate method overloading using default arguments or variable-length arguments, and demonstrate the polymorphic behavior by calling greet() with different numbers of arguments.\n",
    "\n",
    "Expected Output:\n",
    "\n",
    "- Hello!\n",
    "- Hello, John!\n",
    "- Good morning, John!\n"
   ]
  },
  {
   "cell_type": "code",
   "execution_count": 34,
   "id": "89430208-df15-421d-989a-162467c277da",
   "metadata": {},
   "outputs": [],
   "source": [
    "class Greeting:\n",
    "    def greet(self,*args):\n",
    "        if len(args) == 0:\n",
    "            print(\"Hello!\")\n",
    "        elif len(args) == 1:\n",
    "            name = args[0]\n",
    "            print(f\"Hello,{name}\")\n",
    "        elif len(args) == 2:\n",
    "            greeting,name = args\n",
    "            print(f\"{greeting},{name}!\")\n",
    "        else:\n",
    "            print(\"Too many arguments!\")"
   ]
  },
  {
   "cell_type": "code",
   "execution_count": 35,
   "id": "ea313150-7055-40f8-a08d-289820c7d86a",
   "metadata": {},
   "outputs": [],
   "source": [
    "Greet = Greeting()"
   ]
  },
  {
   "cell_type": "code",
   "execution_count": 36,
   "id": "30169199-8567-4b44-a4d0-ce1ecee5f7aa",
   "metadata": {},
   "outputs": [
    {
     "name": "stdout",
     "output_type": "stream",
     "text": [
      "Hello!\n"
     ]
    }
   ],
   "source": [
    "Greet.greet()"
   ]
  },
  {
   "cell_type": "code",
   "execution_count": 37,
   "id": "8545c0cc-cc14-40e4-afa0-1b144b220783",
   "metadata": {},
   "outputs": [
    {
     "name": "stdout",
     "output_type": "stream",
     "text": [
      "Hello,Fasih\n"
     ]
    }
   ],
   "source": [
    "Greet.greet(\"Fasih\")"
   ]
  },
  {
   "cell_type": "code",
   "execution_count": 39,
   "id": "e58878d1-dc16-484a-bc93-3723e888ebcc",
   "metadata": {},
   "outputs": [
    {
     "name": "stdout",
     "output_type": "stream",
     "text": [
      "Good evening,Fasih!\n"
     ]
    }
   ],
   "source": [
    "Greet.greet(\"Good evening\",\"Fasih\")"
   ]
  },
  {
   "cell_type": "markdown",
   "id": "f1a4787e-750f-4ad1-b4ba-75ec1bb81e3e",
   "metadata": {},
   "source": [
    "3. Create a class SecuritySystem to manage a Security PIN. The class should have:\n",
    "\n",
    "- A private attribute __pin to store the PIN.\n",
    "- A method validate_pin(pin) that checks if the input PIN matches the stored one.\n",
    "- A method change_pin(old_pin, new_pin) to allow the user to change their PIN. The method should:\n",
    "    - Ensure the old PIN is correct.\n",
    "    - Ensure the new PIN is a 4-digit number.\n",
    "\n",
    "Demonstrate the following:\n",
    "\n",
    "- Validate the PIN.\n",
    "- Change the PIN with correct and incorrect old PINs, and valid/invalid new PINs.\n",
    "\n",
    "Expected Output:\n",
    "\n",
    "- PIN validated successfully.\n",
    "- Invalid PIN.\n",
    "- PIN changed successfully.\n",
    "- New PIN must be a 4-digit number.\n",
    "- Incorrect old PIN. PIN not changed.\n"
   ]
  },
  {
   "cell_type": "code",
   "execution_count": 1,
   "id": "5772b392-397c-4b12-b28e-1d7569f0fc75",
   "metadata": {},
   "outputs": [],
   "source": [
    "class SecuritySystem:\n",
    "    def __init__ (self,pin):\n",
    "        self.__pin = pin\n",
    "    def validate_pin(self,pin):\n",
    "        if self.__pin == pin:\n",
    "            print(\"PIN validated successfully\")\n",
    "        else:\n",
    "            print(\"Invalid PIN\")\n",
    "    def change_pin(self,old_pin,new_pin):\n",
    "        #old_pin = self.__pin\n",
    "        if old_pin == self.__pin:\n",
    "            if len(new_pin) >= 4:\n",
    "                print(\"PIN changed sucessfully\")\n",
    "            else:\n",
    "                print(\"New PIN must be a 4-digit number\")\n",
    "        else:\n",
    "            print(\"Incorrect old PIN. PIN not changed\")"
   ]
  },
  {
   "cell_type": "code",
   "execution_count": 2,
   "id": "05f38cea-9b66-4c64-95cc-e390e16fa2c3",
   "metadata": {},
   "outputs": [],
   "source": [
    "SecuritySystemObj = SecuritySystem(\"fasih123#\")"
   ]
  },
  {
   "cell_type": "code",
   "execution_count": 3,
   "id": "fd4ba046-be7b-4f39-af72-bb1fc77bf4c3",
   "metadata": {},
   "outputs": [
    {
     "name": "stdout",
     "output_type": "stream",
     "text": [
      "Invalid PIN\n"
     ]
    }
   ],
   "source": [
    "SecuritySystemObj.validate_pin(\"tutor123###\")"
   ]
  },
  {
   "cell_type": "code",
   "execution_count": 4,
   "id": "6ce5ce48-0ff4-4b49-aff0-ef40170d6098",
   "metadata": {},
   "outputs": [
    {
     "name": "stdout",
     "output_type": "stream",
     "text": [
      "PIN validated successfully\n"
     ]
    }
   ],
   "source": [
    "SecuritySystemObj.validate_pin(\"fasih123#\")"
   ]
  },
  {
   "cell_type": "code",
   "execution_count": 5,
   "id": "57f98299-5878-40f0-a2f0-b7b251218c0f",
   "metadata": {},
   "outputs": [
    {
     "name": "stdout",
     "output_type": "stream",
     "text": [
      "Incorrect old PIN. PIN not changed\n"
     ]
    }
   ],
   "source": [
    "SecuritySystemObj.change_pin(\"fasih123\",\"fasih123##\")"
   ]
  },
  {
   "cell_type": "code",
   "execution_count": 6,
   "id": "041d513a-abf5-4859-a0c1-0764429675db",
   "metadata": {},
   "outputs": [
    {
     "name": "stdout",
     "output_type": "stream",
     "text": [
      "New PIN must be a 4-digit number\n"
     ]
    }
   ],
   "source": [
    "SecuritySystemObj.change_pin(\"fasih123#\",\"fas\")"
   ]
  },
  {
   "cell_type": "code",
   "execution_count": 7,
   "id": "630aae93-1295-4c3c-83af-ad897b2320f3",
   "metadata": {},
   "outputs": [
    {
     "name": "stdout",
     "output_type": "stream",
     "text": [
      "PIN changed sucessfully\n"
     ]
    }
   ],
   "source": [
    "SecuritySystemObj.change_pin(\"fasih123#\",\"fasih123#\")"
   ]
  },
  {
   "cell_type": "markdown",
   "id": "1c70c9fc-177c-4f0a-a63a-31725e52a6e8",
   "metadata": {},
   "source": [
    "4. Use abstraction to model different geometric shapes such as circle and rectangle.\n",
    "\n",
    "Instructions:\n",
    "\n",
    "- Create an abstract class Shape with a method area to calculate the area.\n",
    "- Create concrete classes Circle and Rectangle that implement the area method.\n",
    "- Create instances of these shapes and calculate their areas.\n",
    "\n",
    "Expected Output:\n",
    "\n",
    "- Area of Circle: 78.5\n",
    "- Area of Rectangle: 24\n"
   ]
  },
  {
   "cell_type": "code",
   "execution_count": 8,
   "id": "27eda763-8e7b-4303-9f02-167df9e18ccf",
   "metadata": {},
   "outputs": [],
   "source": [
    "from abc import ABC,abstractmethod\n",
    "import math\n",
    "\n",
    "# Abstract class\n",
    "class Shape:\n",
    "\n",
    "    @abstractmethod\n",
    "    def area(ABC):\n",
    "        pass\n",
    "\n",
    "# Circle class\n",
    "class Circle(Shape):\n",
    "    def __init__(self,radius):\n",
    "        self.radius = radius\n",
    "\n",
    "    def area(self):\n",
    "        return round(math.pi * self.radius ** 2,1 )\n",
    "# Rectangle class\n",
    "class Rectangle(Shape):\n",
    "    def __init__(self,width,height):\n",
    "        self.width = width\n",
    "        self.height = height\n",
    "\n",
    "    def area(self):\n",
    "        return self.width * self.height"
   ]
  },
  {
   "cell_type": "code",
   "execution_count": 9,
   "id": "ea2e2121-968d-4acc-9f41-f29f5dc6b107",
   "metadata": {},
   "outputs": [],
   "source": [
    "# Create Objects\n",
    "Circle = Circle(4)\n",
    "Rectangle = Rectangle(5,6)"
   ]
  },
  {
   "cell_type": "code",
   "execution_count": 11,
   "id": "be1426e0-412b-48b1-9aa8-44c0aaa98aeb",
   "metadata": {},
   "outputs": [
    {
     "name": "stdout",
     "output_type": "stream",
     "text": [
      "Area of circle 50.3\n",
      "Area of rectangle 30\n"
     ]
    }
   ],
   "source": [
    "print(\"Area of circle\",Circle.area())\n",
    "print(\"Area of rectangle\",Rectangle.area())"
   ]
  },
  {
   "cell_type": "markdown",
   "id": "70a07851-af81-4e26-a9d1-94c92ffa0d6b",
   "metadata": {},
   "source": [
    "5. Create a class Notification with a method send(), which prints \"Sending notification\".\n",
    "Then, create two subclasses:\n",
    "\n",
    "EmailNotification: Override the send() method to print \"Sending email\".\n",
    "\n",
    "SMSNotification: Override the send() method to print \"Sending SMS\".\n",
    "\n",
    "Demonstrate method overriding calling send() on instances of EmailNotification and SMSNotification."
   ]
  },
  {
   "cell_type": "code",
   "execution_count": null,
   "id": "6cb0b28a-70d0-4fd3-8f4b-26031db6d669",
   "metadata": {},
   "outputs": [],
   "source": []
  }
 ],
 "metadata": {
  "kernelspec": {
   "display_name": "Python 3 (ipykernel)",
   "language": "python",
   "name": "python3"
  },
  "language_info": {
   "codemirror_mode": {
    "name": "ipython",
    "version": 3
   },
   "file_extension": ".py",
   "mimetype": "text/x-python",
   "name": "python",
   "nbconvert_exporter": "python",
   "pygments_lexer": "ipython3",
   "version": "3.12.7"
  }
 },
 "nbformat": 4,
 "nbformat_minor": 5
}
