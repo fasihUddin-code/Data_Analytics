{
 "cells": [
  {
   "cell_type": "markdown",
   "id": "ded69d83-04af-41d6-8e49-609befccff3f",
   "metadata": {},
   "source": [
    "Q1.\n",
    "\n",
    "An e-commerce store stores information about its products in a nested dictionary. The outer dictionary uses product IDs as keys, and the inner dictionary stores product details like name, category, price, and stock quantity. products = { 101: {\"name\": \"Laptop\", \"category\": \"Electronics\", \"price\": 1200, \"stock\": 50}, 102: {\"name\": \"Shirt\", \"category\": \"Apparel\", \"price\": 25, \"stock\": 200}, 103: {\"name\": \"Coffee Maker\", \"category\": \"Home Appliances\", \"price\": 80, \"stock\": 30} }\n",
    "\n",
    "• Increase the stock of the \"Shirt\" product (add 50 more units)\n",
    "\n",
    "• Add a new product (e.g., \"Smartphone\")"
   ]
  },
  {
   "cell_type": "code",
   "execution_count": 13,
   "id": "4d04a034-5c36-4358-bf05-8c79e3dfbd67",
   "metadata": {},
   "outputs": [
    {
     "name": "stdout",
     "output_type": "stream",
     "text": [
      "The current stock for Product ID 102 (Shirt) is 250 units.\n"
     ]
    },
    {
     "data": {
      "text/plain": [
       "{'101': {'name': 'Laptop',\n",
       "  'category': 'Electronics',\n",
       "  'price': 1200,\n",
       "  'stock': 50},\n",
       " '102': {'name': 'Shirt', 'category': 'Apparel', 'price': 25, 'stock': 250},\n",
       " '103': {'name': 'Coffee Maker',\n",
       "  'category': 'Home Appliances',\n",
       "  'price': 80,\n",
       "  'stock': 30},\n",
       " '104': {'name': 'Smartphone',\n",
       "  'category': 'Electronics',\n",
       "  'price': 22000,\n",
       "  'stock': 22}}"
      ]
     },
     "execution_count": 13,
     "metadata": {},
     "output_type": "execute_result"
    }
   ],
   "source": [
    "stockInfo={ \n",
    "    \"101\": {\n",
    "            \"name\": \"Laptop\", \n",
    "            \"category\": \"Electronics\", \n",
    "            \"price\": 1200, \n",
    "            \"stock\": 50\n",
    "    }, \n",
    "    \"102\": \n",
    "         {\n",
    "            \"name\": \"Shirt\", \n",
    "          \"category\": \"Apparel\", \n",
    "          \"price\": 25, \n",
    "          \"stock\": 200\n",
    "         }, \n",
    "    \"103\": {\n",
    "        \"name\": \"Coffee Maker\", \n",
    "        \"category\": \"Home Appliances\", \n",
    "        \"price\": 80, \n",
    "        \"stock\": 30}, \n",
    "    }\n",
    "stockInfo[\"102\"][\"stock\"] += 50\n",
    "print(f\"The current stock for Product ID 102 (Shirt) is {stockInfo['102']['stock']} units.\")\n",
    "stockInfo[\"104\"]={\n",
    "    \"name\" : \"Smartphone\",\n",
    "    \"category\" : \"Electronics\",\n",
    "    \"price\" : 22000,\n",
    "    \"stock\" : 22\n",
    "}\n",
    "stockInfo\n"
   ]
  },
  {
   "cell_type": "markdown",
   "id": "e10a9a28-2eb0-415e-a90c-41e3e1b2853e",
   "metadata": {},
   "source": [
    "Q2.\n",
    "\n",
    "You are given a list that contains some duplicate items. Remove the duplicates\n",
    "\n",
    "shopping_list = [\"apple\", \"banana\", \"apple\", \"orange\", \"banana\", \"grape\"]"
   ]
  },
  {
   "cell_type": "code",
   "execution_count": 2,
   "id": "a846fc34-ea8b-4814-bc0f-7e9747f5dfa6",
   "metadata": {},
   "outputs": [
    {
     "name": "stdout",
     "output_type": "stream",
     "text": [
      "['apple', 'banana', 'orange', 'grape']\n"
     ]
    }
   ],
   "source": [
    "shopping_list = [\"apple\",\"banana\",\"apple\",\"orange\",\"grape\"]\n",
    "i=0\n",
    "seen = set()\n",
    "\n",
    "while i < len(shopping_list):\n",
    "    if shopping_list[i] in seen:\n",
    "        del shopping_list[i]\n",
    "    else:\n",
    "        seen.add(shopping_list[i])\n",
    "        i+=1\n",
    "print(shopping_list)        \n",
    "        "
   ]
  },
  {
   "cell_type": "markdown",
   "id": "0a62bc87-09d4-44c1-8311-2d3c6867511b",
   "metadata": {},
   "source": [
    "Q3.\n",
    "\n",
    "You are managing a list of students enrolled in two different courses. You need to perform various set operations to understand the student enrollment. Task: Create two sets: one for students in \"Course A\" and one for students in \"Course B\". Find the students who are in \"Course A\" but not in \"Course B\" (difference). Find students who are only in one of the two courses (symmetric difference). \n",
    "\n",
    "course_a = {\"John\", \"Alice\", \"Bob\", \"David\"} \n",
    "\n",
    "course_b = {\"Alice\", \"Eve\", \"Charlie\", \"David\"}\n",
    "\n",
    "• Find students who are in Course A but not in Course B (difference)\n",
    "\n",
    "• Find students who are only in one of the two courses (symmetric difference)"
   ]
  },
  {
   "cell_type": "code",
   "execution_count": 6,
   "id": "c1d61f59-b2eb-4d5a-8894-42922a534304",
   "metadata": {},
   "outputs": [
    {
     "name": "stdout",
     "output_type": "stream",
     "text": [
      "{'Bob', 'John'}\n",
      "{'Bob', 'John', 'Eve', 'Charlie'}\n"
     ]
    }
   ],
   "source": [
    "course_a = {\"John\",\"Alice\",\"Bob\",\"David\"}\n",
    "course_b = {\"Alice\",\"Eve\",\"Charlie\",\"David\"}\n",
    "studentsA = course_a.difference(course_b)\n",
    "print(studentsA)\n",
    "studentsAB = course_a.symmetric_difference(course_b)\n",
    "print(studentsAB)"
   ]
  },
  {
   "cell_type": "markdown",
   "id": "822000b2-e437-4d5d-9fff-2bded3b347cb",
   "metadata": {},
   "source": [
    "Q4.\n",
    "\n",
    "Write a Python program that calculates the sum of all even numbers between 1 and 50 (inclusive) using a for loop.\n",
    "\n",
    "Hint\n",
    "\n",
    "- Initialize a variable to hold the sum (e.g., sum_of_evens).\n",
    "- Use a for loop to iterate through all numbers from 1 to 50.\n",
    "- Inside the loop, check if the number is even.\n",
    "- If the number is even, add it to sum_of_evens.\n",
    "- After the loop finishes, print the total sum of all even numbers between 1 and 50."
   ]
  },
  {
   "cell_type": "code",
   "execution_count": 10,
   "id": "85a60b4e-a5d7-4a3e-a031-09471fff3e73",
   "metadata": {},
   "outputs": [
    {
     "name": "stdout",
     "output_type": "stream",
     "text": [
      "650\n"
     ]
    }
   ],
   "source": [
    "i=1\n",
    "sum_of_evens=0\n",
    "for i in range(1,51):\n",
    "    if(i%2==0):\n",
    "        sum_of_evens+=i\n",
    "    i+=1\n",
    "print(sum_of_evens)"
   ]
  },
  {
   "cell_type": "markdown",
   "id": "b6529e21-c453-48f0-acee-54044715bc1d",
   "metadata": {},
   "source": [
    "Q5. Power of a Number Write a Python program that takes a number and prints the powers of the number (starting from 1 to 10) using a while loop. For example, if the user inputs 3, the output should be:\n",
    "\n",
    "3^1 = 3\n",
    "\n",
    "3^2 = 9\n",
    "\n",
    "3^3 = 27\n",
    "\n",
    "... up to 3^10."
   ]
  },
  {
   "cell_type": "code",
   "execution_count": 12,
   "id": "5553d590-5ae6-4e6a-a410-f5a65c290e64",
   "metadata": {},
   "outputs": [
    {
     "name": "stdin",
     "output_type": "stream",
     "text": [
      "Enter a number: 3\n"
     ]
    },
    {
     "name": "stdout",
     "output_type": "stream",
     "text": [
      "3^1 = 3\n",
      "3^2 = 9\n",
      "3^3 = 27\n",
      "3^4 = 81\n",
      "3^5 = 243\n",
      "3^6 = 729\n",
      "3^7 = 2187\n",
      "3^8 = 6561\n",
      "3^9 = 19683\n",
      "3^10 = 59049\n"
     ]
    }
   ],
   "source": [
    "userInput = int(input(\"Enter a number:\"))\n",
    "i=1\n",
    "for i in range(i,11):\n",
    "    print(f\"{userInput}^{i} = {userInput**i}\")"
   ]
  },
  {
   "cell_type": "markdown",
   "id": "17616e00-7421-4145-8177-c27d67f85b18",
   "metadata": {},
   "source": [
    "Q6. \n",
    "\n",
    "Problem Statement: Write a Python program that takes an integer input from the user and counts down from that number to 0. The program should display the current number at each step until it reaches 0, at which point it should print a message indicating the countdown is finished\n",
    "\n",
    "Output Hint:\n",
    "\n",
    "Enter a number to start the countdown: 3\n",
    "\n",
    "3\n",
    "\n",
    "2\n",
    "\n",
    "1\n",
    "\n",
    "0\n",
    "\n",
    "Countdown finished!"
   ]
  },
  {
   "cell_type": "code",
   "execution_count": 24,
   "id": "88524617-bd0e-4cd8-800b-9db939dd40ff",
   "metadata": {},
   "outputs": [
    {
     "name": "stdin",
     "output_type": "stream",
     "text": [
      "Enter a number to start the countdown: 3\n"
     ]
    },
    {
     "name": "stdout",
     "output_type": "stream",
     "text": [
      "3\n",
      "2\n",
      "1\n",
      "0\n",
      "Countdown finished\n"
     ]
    }
   ],
   "source": [
    "userInput2 = int(input(\"Enter a number to start the countdown:\"))\n",
    "while(userInput2>=0):\n",
    "    print(userInput2)\n",
    "    userInput2-=1\n",
    "   # if(userInput2==0):\n",
    "    \n",
    "print(\"Countdown finished\")"
   ]
  },
  {
   "cell_type": "markdown",
   "id": "cfe42689-a235-4920-a4d2-2b0cbb8e51c6",
   "metadata": {},
   "source": [
    "Q7.\n",
    "\n",
    "Write a Python program that takes a number as input from the user and calculates its factorial using a for loop. The program should display the result to the user.\n",
    "\n",
    "Example Input/Output:\n",
    "\n",
    "Input:\n",
    "5\n",
    "\n",
    "Output:\n",
    "The factorial of 5 is 120"
   ]
  },
  {
   "cell_type": "code",
   "execution_count": 35,
   "id": "2f77b389-23b3-44f2-8615-940403675dea",
   "metadata": {},
   "outputs": [
    {
     "name": "stdin",
     "output_type": "stream",
     "text": [
      "Enter a number: 5\n"
     ]
    },
    {
     "name": "stdout",
     "output_type": "stream",
     "text": [
      "factorial of 5 is 120\n"
     ]
    }
   ],
   "source": [
    "userInput3 = int(input(\"Enter a number:\"))\n",
    "fact=1\n",
    "if(userInput3<0):\n",
    "    print(\"Factorial is not define for negative numbers\")\n",
    "elif(userInput3==0 or userInput3==1 ):\n",
    "    print(f\"Factorial of {userInput3} is 1\")\n",
    "else:\n",
    "    for i in range(2,userInput3+1):\n",
    "       # print(i)\n",
    "        fact *=i\n",
    "print(f\"factorial of {userInput3} is {fact}\")    "
   ]
  },
  {
   "cell_type": "markdown",
   "id": "ee8b3ea5-fe2f-40eb-bcb0-a7ebca6811e0",
   "metadata": {},
   "source": [
    "Q8.\n",
    "\n",
    "Create an empty dictionary called person_info.\n",
    "\n",
    "Assign the following key-value pairs to the dictionary:\n",
    "\n",
    "\"name\": \"Alice\"\n",
    "\n",
    "\"age\": 25\n",
    "\n",
    "\"occupation\": \"Engineer\"\n",
    "\n",
    "After assigning the values, print the dictionary."
   ]
  },
  {
   "cell_type": "code",
   "execution_count": 37,
   "id": "1b1b0f8f-a28b-41ae-ac91-8a92202ccfa9",
   "metadata": {},
   "outputs": [
    {
     "name": "stdout",
     "output_type": "stream",
     "text": [
      "{'name': 'Alice', 'age': 25, 'occupation': 'Engineer'}\n"
     ]
    }
   ],
   "source": [
    "person_info={}\n",
    "person_info = {\n",
    "    \"name\" : \"Alice\",\n",
    "    \"age\" : 25,\n",
    "    \"occupation\" : \"Engineer\"\n",
    "}\n",
    "print(person_info)"
   ]
  },
  {
   "cell_type": "markdown",
   "id": "252146ac-80e2-4961-bd0b-39c9821f9e04",
   "metadata": {},
   "source": [
    "Q9. Printing a right-angled triangle pattern (with NESTED while loop)"
   ]
  },
  {
   "cell_type": "code",
   "execution_count": null,
   "id": "5719c1be-5aa4-4f6a-96a0-a66e2e3983f1",
   "metadata": {},
   "outputs": [],
   "source": [
    "* \n",
    "* * \n",
    "* * * \n",
    "* * * * \n",
    "* * * * * "
   ]
  },
  {
   "cell_type": "code",
   "execution_count": 38,
   "id": "815c9deb-15a4-4abb-b64e-01fb31221747",
   "metadata": {},
   "outputs": [
    {
     "name": "stdout",
     "output_type": "stream",
     "text": [
      "* \n",
      "* * \n",
      "* * * \n",
      "* * * * \n",
      "* * * * * \n"
     ]
    }
   ],
   "source": [
    "rows = 5\n",
    "i=1\n",
    "while i <= rows:\n",
    "    j=1\n",
    "    while j <= i:\n",
    "        print(\"*\",end=\" \")\n",
    "        j+=1\n",
    "    print()\n",
    "    i+=1"
   ]
  },
  {
   "cell_type": "markdown",
   "id": "c8e1c594-6022-4dc6-8a7b-e2c3f36c798a",
   "metadata": {},
   "source": [
    "Q10.\n",
    "\n",
    "Write a Python program that does the following:\n",
    "\n",
    "Range: Loop through numbers from 1 to 20 (inclusive).\n",
    "\n",
    "Continue: If the number is divisible by 4, skip that iteration and move to the next number.\n",
    "\n",
    "Break: If the number is divisible by 7, stop the loop entirely.\n",
    "\n",
    "For all other numbers, print the number."
   ]
  },
  {
   "cell_type": "code",
   "execution_count": 39,
   "id": "65f179f4-0ccc-4d62-a28c-26dc9cc56b36",
   "metadata": {},
   "outputs": [
    {
     "name": "stdout",
     "output_type": "stream",
     "text": [
      "1\n",
      "2\n",
      "3\n",
      "5\n",
      "6\n"
     ]
    }
   ],
   "source": [
    "i=1\n",
    "for i in range(1,21):\n",
    "    if(i%4==0):\n",
    "      continue\n",
    "    elif(i%7==0):\n",
    "        break\n",
    "    else:\n",
    "        print(i)"
   ]
  },
  {
   "cell_type": "code",
   "execution_count": null,
   "id": "b4967752-511a-42c0-a2ce-7b558084d464",
   "metadata": {},
   "outputs": [],
   "source": []
  }
 ],
 "metadata": {
  "kernelspec": {
   "display_name": "Python 3 (ipykernel)",
   "language": "python",
   "name": "python3"
  },
  "language_info": {
   "codemirror_mode": {
    "name": "ipython",
    "version": 3
   },
   "file_extension": ".py",
   "mimetype": "text/x-python",
   "name": "python",
   "nbconvert_exporter": "python",
   "pygments_lexer": "ipython3",
   "version": "3.12.7"
  }
 },
 "nbformat": 4,
 "nbformat_minor": 5
}
