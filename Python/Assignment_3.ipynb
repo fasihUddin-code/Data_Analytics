{
 "cells": [
  {
   "cell_type": "markdown",
   "id": "8580008d-e453-48df-ba59-befbfcd04557",
   "metadata": {},
   "source": [
    "Question 1: Age Group Classification \n",
    "\n",
    "Write a Python program that takes the age of a person as input and classifies them into one of the following age groups:\n",
    "\n",
    "\"Child\" if the age is between 0 and 12 (inclusive).\n",
    "\n",
    "\"Teenager\" if the age is between 13 and 19 (inclusive).\n",
    "\n",
    "\"Adult\" if the age is between 20 and 64 (inclusive).\n",
    "\n",
    "\"Senior\" if the age is 65 or older.\n"
   ]
  },
  {
   "cell_type": "code",
   "execution_count": 2,
   "id": "c913fe7d-d3cc-43ee-89c2-fce37f34ce07",
   "metadata": {},
   "outputs": [
    {
     "name": "stdin",
     "output_type": "stream",
     "text": [
      "Enter your age: 12\n"
     ]
    },
    {
     "name": "stdout",
     "output_type": "stream",
     "text": [
      "Child\n"
     ]
    }
   ],
   "source": [
    "personAge = int(input(\"Enter your age:\"))\n",
    "if(personAge >= 0 and personAge <= 12):\n",
    "    print(\"Child\")\n",
    "elif(personAge >= 13 and personAge <= 19): \n",
    "    print(\"Teenager\")\n",
    "elif(personAge >= 20 and personAge <= 64): \n",
    "    print(\"Adult\")\n",
    "else:\n",
    "    print(\"Senior\")"
   ]
  },
  {
   "cell_type": "code",
   "execution_count": 3,
   "id": "04f8b5f1-08f4-4518-aac9-8d0cfe7282f7",
   "metadata": {},
   "outputs": [
    {
     "name": "stdin",
     "output_type": "stream",
     "text": [
      "Enter your age: 64\n"
     ]
    },
    {
     "name": "stdout",
     "output_type": "stream",
     "text": [
      "Adult\n"
     ]
    }
   ],
   "source": [
    "personAge = int(input(\"Enter your age:\"))\n",
    "if(personAge >= 0 and personAge <= 12):\n",
    "    print(\"Child\")\n",
    "elif(personAge >= 13 and personAge <= 19): \n",
    "    print(\"Teenager\")\n",
    "elif(personAge >= 20 and personAge <= 64): \n",
    "    print(\"Adult\")\n",
    "else:\n",
    "    print(\"Senior\")"
   ]
  },
  {
   "cell_type": "markdown",
   "id": "a569ab49-ee36-4786-be93-aa92a83344b5",
   "metadata": {},
   "source": [
    "Q2. Write a Python program that asks the user to enter an email address. The program should check if the email contains the characters @ and \".\" (ignoring case). If either character is present, print \"Email format is valid.\" Otherwise, print \"Invalid email format.\""
   ]
  },
  {
   "cell_type": "code",
   "execution_count": 4,
   "id": "f44cb200-a7f2-4591-ae06-153f1081bf68",
   "metadata": {},
   "outputs": [
    {
     "name": "stdin",
     "output_type": "stream",
     "text": [
      "Enter your email: fasih@testcom\n"
     ]
    },
    {
     "name": "stdout",
     "output_type": "stream",
     "text": [
      "Invalid format\n"
     ]
    }
   ],
   "source": [
    "email = input(\"Enter your email:\")\n",
    "email_lower = email.lower()\n",
    "if \"@\" in email_lower and \".\" in email_lower :\n",
    "    print(\"email is valid format\")\n",
    "else:\n",
    "    print(\"Invalid format\")"
   ]
  },
  {
   "cell_type": "code",
   "execution_count": 5,
   "id": "df3d3781-c521-4299-95f2-5f99ec625298",
   "metadata": {},
   "outputs": [
    {
     "name": "stdin",
     "output_type": "stream",
     "text": [
      "Enter your email: fasih.com\n"
     ]
    },
    {
     "name": "stdout",
     "output_type": "stream",
     "text": [
      "Invalid format\n"
     ]
    }
   ],
   "source": [
    "email = input(\"Enter your email:\")\n",
    "email_lower = email.lower()\n",
    "if \"@\" in email_lower and \".\" in email_lower :\n",
    "    print(\"email is valid format\")\n",
    "else:\n",
    "    print(\"Invalid format\")"
   ]
  },
  {
   "cell_type": "code",
   "execution_count": 6,
   "id": "a69bc4f6-e3a3-435d-b53d-798ab971b0c3",
   "metadata": {},
   "outputs": [
    {
     "name": "stdin",
     "output_type": "stream",
     "text": [
      "Enter your email: fasih@test.com\n"
     ]
    },
    {
     "name": "stdout",
     "output_type": "stream",
     "text": [
      "email is valid format\n"
     ]
    }
   ],
   "source": [
    "email = input(\"Enter your email:\")\n",
    "email_lower = email.lower()\n",
    "if \"@\" in email_lower and \".\" in email_lower :\n",
    "    print(\"email is valid format\")\n",
    "else:\n",
    "    print(\"Invalid format\")"
   ]
  },
  {
   "cell_type": "markdown",
   "id": "a074ddbe-c5c4-455e-ac3c-53fbbc6c2d56",
   "metadata": {},
   "source": [
    "Q3. Write a Python program that takes three numbers as input and determines the largest among them. Also, check if any or all of the numbers are equal.\""
   ]
  },
  {
   "cell_type": "code",
   "execution_count": 7,
   "id": "ecd69076-0b32-47bc-978a-1e08a0b11df0",
   "metadata": {},
   "outputs": [
    {
     "name": "stdin",
     "output_type": "stream",
     "text": [
      "Enter the first number: 123\n",
      "Enter the second number: 125\n",
      "Enter the third number: 125\n"
     ]
    },
    {
     "name": "stdout",
     "output_type": "stream",
     "text": [
      "Two of the numbers are equal\n",
      "The largest number is: 125.0\n"
     ]
    }
   ],
   "source": [
    "num1 = float(input(\"Enter the first number:\"))\n",
    "num2 = float(input(\"Enter the second number:\"))\n",
    "num3 = float(input(\"Enter the third number:\"))\n",
    "\n",
    "if(num1 == num2 == num3):\n",
    "    print(\"All three numbers are equal\")\n",
    "elif(num1==num2 or num2==num3 or num1==num3):\n",
    "    print(\"Two of the numbers are equal\")\n",
    "else:\n",
    "    print(\"All numbers are different\")\n",
    "\n",
    "largestNum = max(num1,num2,num3)\n",
    "print(\"The largest number is:\",largestNum)"
   ]
  },
  {
   "cell_type": "code",
   "execution_count": 9,
   "id": "b6b79853-ad19-4165-ab93-cbd25dea4ce3",
   "metadata": {},
   "outputs": [
    {
     "name": "stdin",
     "output_type": "stream",
     "text": [
      "Enter the first number: 23\n",
      "Enter the second number: 21\n",
      "Enter the third number: 25\n"
     ]
    },
    {
     "name": "stdout",
     "output_type": "stream",
     "text": [
      "All numbers are different\n",
      "The largest number is: 25.0\n"
     ]
    }
   ],
   "source": [
    "num1 = float(input(\"Enter the first number:\"))\n",
    "num2 = float(input(\"Enter the second number:\"))\n",
    "num3 = float(input(\"Enter the third number:\"))\n",
    "\n",
    "if(num1 == num2 == num3):\n",
    "    print(\"All three numbers are equal\")\n",
    "elif(num1==num2 or num2==num3 or num1==num3):\n",
    "    print(\"Two of the numbers are equal\")\n",
    "else:\n",
    "    print(\"All numbers are different\")\n",
    "\n",
    "largestNum = max(num1,num2,num3)\n",
    "print(\"The largest number is:\",largestNum)"
   ]
  },
  {
   "cell_type": "markdown",
   "id": "55560bd6-a9d8-4e57-a192-b3e9932ff5cb",
   "metadata": {},
   "source": [
    "Q4. Write a Python program that:\n",
    "\n",
    "Asks the user to enter a number.\n",
    "\n",
    "Checks whether the number is positive.\n",
    "\n",
    "If yes, further check if it's even or odd.\n",
    "\n",
    "Print \"The number is positive and even\" if divisible by 2.\n",
    "\n",
    "Print \"The number is positive and odd\" if not divisible by 2.\n",
    "\n",
    "If the number is zero or negative, print \"The number is not positive\"."
   ]
  },
  {
   "cell_type": "code",
   "execution_count": 11,
   "id": "ac6ba918-8b20-4ade-b42f-4fdecaa00f9e",
   "metadata": {},
   "outputs": [
    {
     "name": "stdin",
     "output_type": "stream",
     "text": [
      "Enter a number: 5\n"
     ]
    },
    {
     "name": "stdout",
     "output_type": "stream",
     "text": [
      "The number is positive and odd\n"
     ]
    }
   ],
   "source": [
    "numberInput = int(input(\"Enter a number:\"))\n",
    "if(numberInput>0):\n",
    "    if(numberInput%2==0):\n",
    "        print(\"The number is positive and even\")\n",
    "    else:\n",
    "        print(\"The number is positive and odd\")\n",
    "else:\n",
    "    print(\"The number is not positive\")"
   ]
  },
  {
   "cell_type": "code",
   "execution_count": 12,
   "id": "955dcf47-b96a-4c55-94f1-3cf6d0828af5",
   "metadata": {},
   "outputs": [
    {
     "name": "stdin",
     "output_type": "stream",
     "text": [
      "Enter a number: 56\n"
     ]
    },
    {
     "name": "stdout",
     "output_type": "stream",
     "text": [
      "The number is positive and even\n"
     ]
    }
   ],
   "source": [
    "numberInput = int(input(\"Enter a number:\"))\n",
    "if(numberInput>0):\n",
    "    if(numberInput%2==0):\n",
    "        print(\"The number is positive and even\")\n",
    "    else:\n",
    "        print(\"The number is positive and odd\")\n",
    "else:\n",
    "    print(\"The number is not positive\")"
   ]
  },
  {
   "cell_type": "code",
   "execution_count": 13,
   "id": "fc0ac0cd-0474-4f0d-b9aa-0843868b5d74",
   "metadata": {},
   "outputs": [
    {
     "name": "stdin",
     "output_type": "stream",
     "text": [
      "Enter a number: -9\n"
     ]
    },
    {
     "name": "stdout",
     "output_type": "stream",
     "text": [
      "The number is not positive\n"
     ]
    }
   ],
   "source": [
    "numberInput = int(input(\"Enter a number:\"))\n",
    "if(numberInput>0):\n",
    "    if(numberInput%2==0):\n",
    "        print(\"The number is positive and even\")\n",
    "    else:\n",
    "        print(\"The number is positive and odd\")\n",
    "else:\n",
    "    print(\"The number is not positive\")"
   ]
  },
  {
   "cell_type": "code",
   "execution_count": 14,
   "id": "69169394-5bcd-48d5-80ca-e41e1ee3a906",
   "metadata": {},
   "outputs": [
    {
     "name": "stdin",
     "output_type": "stream",
     "text": [
      "Enter a number: 0\n"
     ]
    },
    {
     "name": "stdout",
     "output_type": "stream",
     "text": [
      "The number is not positive\n"
     ]
    }
   ],
   "source": [
    "numberInput = int(input(\"Enter a number:\"))\n",
    "if(numberInput>0):\n",
    "    if(numberInput%2==0):\n",
    "        print(\"The number is positive and even\")\n",
    "    else:\n",
    "        print(\"The number is positive and odd\")\n",
    "else:\n",
    "    print(\"The number is not positive\")"
   ]
  },
  {
   "cell_type": "markdown",
   "id": "800fe26a-5d6e-4107-97ba-62fa4f913093",
   "metadata": {},
   "source": [
    "Q5. Ask the user for a username and password. Check if the username is correct. If it is, then check if the password is correct. If both are correct, print \"Access granted\".\n",
    "\n",
    "username = \"admin\"\n",
    "\n",
    "password = \"1234\""
   ]
  },
  {
   "cell_type": "code",
   "execution_count": 17,
   "id": "7bddca07-7ef4-462c-b8cf-d52e0d6e31bf",
   "metadata": {},
   "outputs": [
    {
     "name": "stdin",
     "output_type": "stream",
     "text": [
      "Enter your user name: fasih\n",
      "Enter your password: fasih123\n"
     ]
    },
    {
     "name": "stdout",
     "output_type": "stream",
     "text": [
      "Access Denied\n"
     ]
    }
   ],
   "source": [
    "userName = input(\"Enter your user name:\")\n",
    "password = input(\"Enter your password:\")\n",
    "\n",
    "if(userName =='Fasih' and password == 'test@12'):\n",
    "    print(\"Access Granted\")\n",
    "else:\n",
    "    print(\"Access Denied\")"
   ]
  },
  {
   "cell_type": "code",
   "execution_count": 18,
   "id": "139fa4bd-2fa3-4a17-a9ce-8761aff17af2",
   "metadata": {},
   "outputs": [
    {
     "name": "stdin",
     "output_type": "stream",
     "text": [
      "Enter your user name: fasih\n",
      "Enter your password: test@12\n"
     ]
    },
    {
     "name": "stdout",
     "output_type": "stream",
     "text": [
      "Access Denied\n"
     ]
    }
   ],
   "source": [
    "userName = input(\"Enter your user name:\")\n",
    "password = input(\"Enter your password:\")\n",
    "\n",
    "if(userName =='Fasih' and password == 'test@12'):\n",
    "    print(\"Access Granted\")\n",
    "else:\n",
    "    print(\"Access Denied\")"
   ]
  },
  {
   "cell_type": "code",
   "execution_count": 19,
   "id": "46203296-e1c1-4d5d-afc6-196b2f83e73d",
   "metadata": {},
   "outputs": [
    {
     "name": "stdin",
     "output_type": "stream",
     "text": [
      "Enter your user name: Fasih\n",
      "Enter your password: test@12\n"
     ]
    },
    {
     "name": "stdout",
     "output_type": "stream",
     "text": [
      "Access Granted\n"
     ]
    }
   ],
   "source": [
    "userName = input(\"Enter your user name:\")\n",
    "password = input(\"Enter your password:\")\n",
    "\n",
    "if(userName =='Fasih' and password == 'test@12'):\n",
    "    print(\"Access Granted\")\n",
    "else:\n",
    "    print(\"Access Denied\")"
   ]
  },
  {
   "cell_type": "markdown",
   "id": "d7512946-1c55-48d5-b62d-4f17c84f457a",
   "metadata": {},
   "source": [
    "Q6. Take an integer input from the user and check whether the entered value exists in the tuple my_tuple = (5, 10, 15, 20, 25). Print an appropriate message based on the result."
   ]
  },
  {
   "cell_type": "code",
   "execution_count": 20,
   "id": "f28efeec-52ff-46d5-b96d-9aa4ec958d17",
   "metadata": {},
   "outputs": [
    {
     "name": "stdin",
     "output_type": "stream",
     "text": [
      "Enter a number: 5\n"
     ]
    },
    {
     "name": "stdout",
     "output_type": "stream",
     "text": [
      "Number exist in my_tuple\n"
     ]
    }
   ],
   "source": [
    "my_tuple = (5,10,15,20,25)\n",
    "userInput = int(input(\"Enter a number:\"))\n",
    "if (userInput in my_tuple):\n",
    "    print(\"Number exist in my_tuple\")\n",
    "else:\n",
    "    print(\"Number does not exist in my_tuple\")\n",
    "    \n",
    "                      "
   ]
  },
  {
   "cell_type": "code",
   "execution_count": 22,
   "id": "f2cf6d9c-69f4-4ae5-9196-35142f02f6e9",
   "metadata": {},
   "outputs": [
    {
     "name": "stdin",
     "output_type": "stream",
     "text": [
      "Enter a number: 56\n"
     ]
    },
    {
     "name": "stdout",
     "output_type": "stream",
     "text": [
      "Number does not exist in my_tuple\n"
     ]
    }
   ],
   "source": [
    "my_tuple = (5,10,15,20,25)\n",
    "userInput = int(input(\"Enter a number:\"))\n",
    "if (userInput in my_tuple):\n",
    "    print(\"Number exist in my_tuple\")\n",
    "else:\n",
    "    print(\"Number does not exist in my_tuple\")"
   ]
  },
  {
   "cell_type": "markdown",
   "id": "f38b44b4-1244-4fa9-a186-8153caa421ec",
   "metadata": {},
   "source": [
    "Q7. Create a program that takes the user's first name, last name, and age as input, packs them into a tuple, and prints the tuple."
   ]
  },
  {
   "cell_type": "code",
   "execution_count": 24,
   "id": "e8f93be6-c001-49cc-a774-0f09d654ba3c",
   "metadata": {},
   "outputs": [
    {
     "name": "stdin",
     "output_type": "stream",
     "text": [
      "Enter your first name: Zubair\n",
      "Enter your last name: uddin\n",
      "Enter your age: 21\n"
     ]
    },
    {
     "name": "stdout",
     "output_type": "stream",
     "text": [
      "packed tuple ('Zubair', 'uddin', 21)\n"
     ]
    }
   ],
   "source": [
    "firstName = input(\"Enter your first name:\")\n",
    "lastName = input(\"Enter your last name:\")\n",
    "age = int(input(\"Enter your age:\"))\n",
    "userInfo = firstName, lastName , age\n",
    "print(\"packed tuple\",userInfo)"
   ]
  },
  {
   "cell_type": "markdown",
   "id": "6a08567b-6f6c-4374-a54e-992c09a31780",
   "metadata": {},
   "source": [
    "Q8. Given the tuple coordinates = (4, 5, 6), unpack the elements of the tuple into three variables x, y, and z. Then, calculate and print the sum of the variables."
   ]
  },
  {
   "cell_type": "code",
   "execution_count": 25,
   "id": "1db0659f-4304-44d5-a54a-def20ae8ebee",
   "metadata": {},
   "outputs": [
    {
     "name": "stdout",
     "output_type": "stream",
     "text": [
      "sum of the variables: 15\n"
     ]
    }
   ],
   "source": [
    "my_tuple = (4,5,6)\n",
    "x,y,z = my_tuple\n",
    "print(f\"sum of the variables: {x+y+z}\")"
   ]
  },
  {
   "cell_type": "markdown",
   "id": "d3973711-1c49-436f-aaff-e0a19877f525",
   "metadata": {},
   "source": [
    "Q9. Given the tuple my_tuple = (1, 2, 3, 4, 5), remove the element 3 from the tuple by first converting it to a list, and then print the resulting tuple."
   ]
  },
  {
   "cell_type": "code",
   "execution_count": 34,
   "id": "d140c5d7-2abc-41cc-8e11-854fed55ceb2",
   "metadata": {},
   "outputs": [
    {
     "name": "stdout",
     "output_type": "stream",
     "text": [
      "(1, 2, 4, 5)\n"
     ]
    }
   ],
   "source": [
    "my_tuple = (1,2,3,4,5)\n",
    "my_list = list(my_tuple)\n",
    "my_list.remove(3)\n",
    "my_tuple = tuple(my_list)\n",
    "print(my_tuple)"
   ]
  },
  {
   "cell_type": "markdown",
   "id": "c9c6a478-5d3d-4e1e-8bce-b9479925c7c5",
   "metadata": {},
   "source": [
    "Q10. Given the tuple numbers = (10, 20, 5, 30, 15), find and print the maximum and minimum values in the tuple."
   ]
  },
  {
   "cell_type": "code",
   "execution_count": 35,
   "id": "23f2258c-e489-4d2a-8b1c-20b9e76ac764",
   "metadata": {},
   "outputs": [
    {
     "name": "stdout",
     "output_type": "stream",
     "text": [
      "maximum value 30\n",
      "minimum value 5\n"
     ]
    }
   ],
   "source": [
    "my_numbers = (10,20,5,30,15)\n",
    "max_val = max(my_numbers)\n",
    "min_val = min(my_numbers)\n",
    "print(\"maximum value\",max_val)\n",
    "print(\"minimum value\",min_val)"
   ]
  },
  {
   "cell_type": "code",
   "execution_count": null,
   "id": "8ff16d76-147e-4800-9726-dd83e80a6460",
   "metadata": {},
   "outputs": [],
   "source": []
  }
 ],
 "metadata": {
  "kernelspec": {
   "display_name": "Python 3 (ipykernel)",
   "language": "python",
   "name": "python3"
  },
  "language_info": {
   "codemirror_mode": {
    "name": "ipython",
    "version": 3
   },
   "file_extension": ".py",
   "mimetype": "text/x-python",
   "name": "python",
   "nbconvert_exporter": "python",
   "pygments_lexer": "ipython3",
   "version": "3.12.7"
  }
 },
 "nbformat": 4,
 "nbformat_minor": 5
}
